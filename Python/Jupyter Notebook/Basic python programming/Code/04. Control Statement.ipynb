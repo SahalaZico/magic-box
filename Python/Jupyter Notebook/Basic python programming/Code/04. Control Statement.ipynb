{
 "cells": [
  {
   "cell_type": "code",
   "execution_count": 1,
   "source": [
    "telur_ayam = 5\r\n",
    "telur_buwung_puyuh = 12"
   ],
   "outputs": [],
   "metadata": {}
  },
  {
   "cell_type": "code",
   "execution_count": 2,
   "source": [
    "if telur_ayam > 2:\r\n",
    "    print('Banyak telur gue guys')"
   ],
   "outputs": [
    {
     "output_type": "stream",
     "name": "stdout",
     "text": [
      "Banyak telur gue guys\n"
     ]
    }
   ],
   "metadata": {}
  },
  {
   "cell_type": "code",
   "execution_count": 3,
   "source": [
    "if telur_ayam > 12:\r\n",
    "    print('Banyak telur gue guys')"
   ],
   "outputs": [],
   "metadata": {}
  },
  {
   "cell_type": "code",
   "execution_count": 4,
   "source": [
    "if telur_ayam > telur_buwung_puyuh:\r\n",
    "    print('Telur ayam lebih banyak man')\r\n",
    "else:\r\n",
    "    print('Telur buwung puyuh lebih banyak man')    "
   ],
   "outputs": [
    {
     "output_type": "stream",
     "name": "stdout",
     "text": [
      "Telur buwung puyuh lebih banyak man\n"
     ]
    }
   ],
   "metadata": {}
  },
  {
   "cell_type": "code",
   "execution_count": 5,
   "source": [
    "number = int(input(\"Enter a number \"))\r\n",
    "if number % 2 == 0:\r\n",
    "    print(number,\"is Even number\")\r\n",
    "else:\r\n",
    "    print(number,\"is Odd number\")"
   ],
   "outputs": [
    {
     "output_type": "stream",
     "name": "stdout",
     "text": [
      "Enter a number 12\n",
      "12 is Even number\n"
     ]
    }
   ],
   "metadata": {}
  },
  {
   "cell_type": "code",
   "execution_count": 6,
   "source": [
    "if telur_ayam > 10:\r\n",
    "    print('Kebanyakan telurmu ces')\r\n",
    "elif telur_ayam > 3:\r\n",
    "    print('Cukup telurmu cuy')\r\n",
    "else:\r\n",
    "    print('Telurmu dikit kali bosque')    "
   ],
   "outputs": [
    {
     "output_type": "stream",
     "name": "stdout",
     "text": [
      "Cukup telurmu cuy\n"
     ]
    }
   ],
   "metadata": {}
  },
  {
   "cell_type": "code",
   "execution_count": 7,
   "source": [
    "if telur_buwung_puyuh  % 3 == 0:\r\n",
    "    if telur_buwung_puyuh  % 5 == 0:\r\n",
    "        print('telur buwung puyuh kelipan 15')\r\n",
    "    else:\r\n",
    "        print('telur buwung puyuh hanya kelipatan 3 doang')\r\n",
    "else:\r\n",
    "    print('telur buwung puyuh bukan kelipatan 3 ataupun 15')"
   ],
   "outputs": [
    {
     "output_type": "stream",
     "name": "stdout",
     "text": [
      "telur buwung puyuh hanya kelipatan 3 doang\n"
     ]
    }
   ],
   "metadata": {}
  },
  {
   "cell_type": "code",
   "execution_count": 8,
   "source": [
    "for angka in range(3):\r\n",
    "    print(angka)"
   ],
   "outputs": [
    {
     "output_type": "stream",
     "name": "stdout",
     "text": [
      "0\n",
      "1\n",
      "2\n"
     ]
    }
   ],
   "metadata": {}
  },
  {
   "cell_type": "code",
   "execution_count": 9,
   "source": [
    "for karakter in 'usro':\r\n",
    "    print(karakter,end=\"-\")"
   ],
   "outputs": [
    {
     "output_type": "stream",
     "name": "stdout",
     "text": [
      "u-s-r-o-"
     ]
    }
   ],
   "metadata": {}
  },
  {
   "cell_type": "code",
   "execution_count": 10,
   "source": [
    "for nomor in [1,2,3,4]:\r\n",
    "    print(nomor)"
   ],
   "outputs": [
    {
     "output_type": "stream",
     "name": "stdout",
     "text": [
      "1\n",
      "2\n",
      "3\n",
      "4\n"
     ]
    }
   ],
   "metadata": {}
  },
  {
   "cell_type": "code",
   "execution_count": 11,
   "source": [
    "anak_ayam = 0\r\n",
    "while anak_ayam < 4:\r\n",
    "    print('anak ayam turun',anak_ayam)\r\n",
    "    anak_ayam+=1"
   ],
   "outputs": [
    {
     "output_type": "stream",
     "name": "stdout",
     "text": [
      "anak ayam turun 0\n",
      "anak ayam turun 1\n",
      "anak ayam turun 2\n",
      "anak ayam turun 3\n"
     ]
    }
   ],
   "metadata": {}
  },
  {
   "cell_type": "code",
   "execution_count": 12,
   "source": [
    "berat_badan= 90\r\n",
    "while berat_badan > 65:\r\n",
    "    print('Diet! berat badan masih',berat_badan)\r\n",
    "    if(berat_badan == 70):\r\n",
    "        print('capek, udahan ahhh')\r\n",
    "        break\r\n",
    "    berat_badan -= 5"
   ],
   "outputs": [
    {
     "output_type": "stream",
     "name": "stdout",
     "text": [
      "Diet! berat badan masih 90\n",
      "Diet! berat badan masih 85\n",
      "Diet! berat badan masih 80\n",
      "Diet! berat badan masih 75\n",
      "Diet! berat badan masih 70\n",
      "capek, udahan ahhh\n"
     ]
    }
   ],
   "metadata": {}
  },
  {
   "cell_type": "code",
   "execution_count": 13,
   "source": [
    "massa_badan= 50\r\n",
    "while massa_badan < 75:\r\n",
    "    massa_badan += 5\r\n",
    "    if(massa_badan % 2 == 0):\r\n",
    "        continue\r\n",
    "    print('Massa badan sudah',massa_badan)"
   ],
   "outputs": [
    {
     "output_type": "stream",
     "name": "stdout",
     "text": [
      "Massa badan sudah 55\n",
      "Massa badan sudah 65\n",
      "Massa badan sudah 75\n"
     ]
    }
   ],
   "metadata": {}
  },
  {
   "cell_type": "code",
   "execution_count": 14,
   "source": [
    "try:\r\n",
    "    print(x)\r\n",
    "except:\r\n",
    "    print(\"An exception occurred\")\r\n",
    "print(5)"
   ],
   "outputs": [
    {
     "output_type": "stream",
     "name": "stdout",
     "text": [
      "An exception occurred\n",
      "5\n"
     ]
    }
   ],
   "metadata": {}
  }
 ],
 "metadata": {
  "kernelspec": {
   "display_name": "Python 3",
   "language": "python",
   "name": "python3"
  },
  "language_info": {
   "codemirror_mode": {
    "name": "ipython",
    "version": 3
   },
   "file_extension": ".py",
   "mimetype": "text/x-python",
   "name": "python",
   "nbconvert_exporter": "python",
   "pygments_lexer": "ipython3",
   "version": "3.8.3"
  }
 },
 "nbformat": 4,
 "nbformat_minor": 4
}